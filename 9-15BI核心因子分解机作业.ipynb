{
 "cells": [
  {
   "cell_type": "markdown",
   "metadata": {},
   "source": [
    "# Thinking 1 ：在实际工作中，FM和MF哪个应用的更多，为什么"
   ]
  },
  {
   "cell_type": "markdown",
   "metadata": {},
   "source": [
    "答：\n",
    "### MF 矩阵分解：\n",
    ">对稀疏的部分进行填补，通常情况下是在 User - Item 两个特征时使用，缺点是仅考虑了用户的行为，未考虑用户自身的特征以及商品自身的特征等；\n",
    "\n",
    "### FM 因子分解机：\n",
    ">选取多个特征，并在线性回归的基础上加入了交互项（二阶，甚至多阶）进行分析，与矩阵分解算法相比较可以得到更加准确的结论；  \n",
    "但对于交互项中稀疏的部分无法拟合系数，采用矩阵分解的方法，填补缺失的系数，得到更准确的模型。\n",
    "\n",
    "### 两者的不同：\n",
    "1. FM 考虑了更多维度的特征，而MF 仅考虑了 User 与 Item 两个维度；\n",
    "2. FM 不仅考虑了交叉项部分（二阶，高阶），还考虑了线性部分。"
   ]
  },
  {
   "cell_type": "markdown",
   "metadata": {},
   "source": [
    "# Thinking 2 ：FFM与FM有哪些区别？"
   ]
  },
  {
   "cell_type": "markdown",
   "metadata": {},
   "source": [
    "答：  \n",
    "FM 每个特征只有一个隐向量表示；\n",
    "FFM 中每个特征有几个不同的隐向量。"
   ]
  },
  {
   "cell_type": "markdown",
   "metadata": {},
   "source": [
    "# Thinking 3 ： DeepFM相比于FM解决了哪些问题，原理是怎样的"
   ]
  },
  {
   "cell_type": "markdown",
   "metadata": {},
   "source": [
    "答：  \n",
    "FM 不仅可以考虑低阶特征，而且可以考虑高阶的特征，但考虑高阶特征时，计算量较大，因此考虑使用 DNN 提取高阶特征。"
   ]
  },
  {
   "cell_type": "markdown",
   "metadata": {},
   "source": [
    "# Thinking 4 ：Surprise工具中的baseline算法原理是怎样的？BaselineOnly和KNNBaseline有什么区别？"
   ]
  },
  {
   "cell_type": "markdown",
   "metadata": {},
   "source": [
    "答：  \n",
    "通过设置所有商品平均值，用户对整体偏差，商品对整体偏差的方式对商品进行打分。  \n",
    "KNNBaseline是在KNNWithMeans的基础上，用baseline代替均值。"
   ]
  },
  {
   "cell_type": "markdown",
   "metadata": {},
   "source": [
    "# Thinking 5 ：基于邻域的协同过滤都有哪些算法，请简述原理"
   ]
  },
  {
   "cell_type": "markdown",
   "metadata": {},
   "source": [
    "答：  \n",
    "KNNBasic、KNNWithMeans  \n",
    "以相似度选取的领域，落在以当前点为中心，距离为 K 的区域中的所有点都作为邻居。  "
   ]
  },
  {
   "cell_type": "markdown",
   "metadata": {},
   "source": [
    "# Action 1 ：使用libfm工具对movielens进行评分预测，采用SGD优化算法"
   ]
  },
  {
   "cell_type": "markdown",
   "metadata": {},
   "source": [
    "```\n",
    "libFM -task r -train ratings.dat.libfm -test ratings.dat.libfm -dim '1,1,8' -method sgd -learn_rate 0.01 -regular ’0,0,0.01’ -init_stdev 0.1 -out sgdout.txt\n",
    "```\n",
    "#Iter= 80       Train=0.77122   Test=0.77122    \n",
    "#Iter= 81       Train=0.771172  Test=0.771172    \n",
    "#Iter= 82       Train=0.771125  Test=0.771125    \n",
    "#Iter= 83       Train=0.771079  Test=0.771079    \n",
    "#Iter= 84       Train=0.771035  Test=0.771035  \n",
    "#Iter= 85       Train=0.770992  Test=0.770992  \n",
    "#Iter= 86       Train=0.77095   Test=0.77095  \n",
    "#Iter= 87       Train=0.770909  Test=0.770909  \n",
    "#Iter= 88       Train=0.770869  Test=0.770869  \n",
    "#Iter= 89       Train=0.77083   Test=0.77083  \n",
    "#Iter= 90       Train=0.770792  Test=0.770792  \n",
    "#Iter= 91       Train=0.770755  Test=0.770755  \n",
    "#Iter= 92       Train=0.770719  Test=0.770719  \n",
    "#Iter= 93       Train=0.770684  Test=0.770684  \n",
    "#Iter= 94       Train=0.77065   Test=0.77065  \n",
    "#Iter= 95       Train=0.770616  Test=0.770616  \n",
    "#Iter= 96       Train=0.770584  Test=0.770584  \n",
    "#Iter= 97       Train=0.770552  Test=0.770552  \n",
    "#Iter= 98       Train=0.770521  Test=0.770521  \n",
    "#Iter= 99       Train=0.77049   Test=0.77049  \n",
    "Final   Train=0.77049   Test=0.77049  "
   ]
  },
  {
   "cell_type": "markdown",
   "metadata": {},
   "source": [
    "# Action 2 ： 使用DeepFM对movielens进行评分预测"
   ]
  },
  {
   "cell_type": "markdown",
   "metadata": {},
   "source": [
    "## 使用google colab训练："
   ]
  },
  {
   "cell_type": "markdown",
   "metadata": {},
   "source": [
    "```python\n",
    "import pandas as pd\n",
    "from sklearn.metrics import mean_squared_error\n",
    "from sklearn.model_selection import train_test_split\n",
    "from sklearn.preprocessing import LabelEncoder\n",
    "from deepctr.models import DeepFM\n",
    "from deepctr.feature_column import SparseFeat, get_feature_names\n",
    "\n",
    "#数据加载\n",
    "import os\n",
    "os.chdir(\"/content/drive/My Drive/Colab Notebooks/\")\n",
    "\n",
    "data = pd.read_csv(\"movielens_sample.txt\")\n",
    "sparse_features = [\"movie_id\", \"user_id\", \"gender\", \"age\", \"occupation\", \"zip\"]\n",
    "target = ['rating']\n",
    "\n",
    "# 对特征标签进行编码\n",
    "for feature in sparse_features:\n",
    "    lbe = LabelEncoder()\n",
    "    data[feature] = lbe.fit_transform(data[feature])\n",
    "# 计算每个特征中的 不同特征值的个数\n",
    "fixlen_feature_columns = [SparseFeat(feature, data[feature].nunique()) for feature in sparse_features]\n",
    "print(fixlen_feature_columns)\n",
    "linear_feature_columns = fixlen_feature_columns\n",
    "dnn_feature_columns = fixlen_feature_columns\n",
    "feature_names = get_feature_names(linear_feature_columns + dnn_feature_columns)\n",
    "\n",
    "# 将数据集切分成训练集和测试集\n",
    "train, test = train_test_split(data, test_size=0.2)\n",
    "train_model_input = {name:train[name].values for name in feature_names}\n",
    "test_model_input = {name:test[name].values for name in feature_names}\n",
    "\n",
    "# 使用DeepFM进行训练\n",
    "model = DeepFM(linear_feature_columns, dnn_feature_columns, task='regression')\n",
    "model.compile(\"adam\", \"mse\", metrics=['mse'], )\n",
    "history = model.fit(train_model_input, train[target].values, batch_size=256, epochs=1, verbose=True, validation_split=0.2, )\n",
    "# 使用DeepFM进行预测\n",
    "pred_ans = model.predict(test_model_input, batch_size=256)\n",
    "# 输出RMSE或MSE\n",
    "mse = round(mean_squared_error(test[target].values, pred_ans), 4)\n",
    "rmse = mse ** 0.5\n",
    "print(\"test RMSE\", rmse)\n",
    "```"
   ]
  },
  {
   "cell_type": "markdown",
   "metadata": {},
   "source": [
    "/usr/local/lib/python3.6/dist-packages/tensorflow/python/framework/indexed_slices.py:432: UserWarning: Converting sparse IndexedSlices to a dense Tensor of unknown shape. This may consume a large amount of memory.\n",
    "  \"Converting sparse IndexedSlices to a dense Tensor of unknown shape. \"  \n",
    "1/1 [==============================] - 0s 305ms/step - loss: 14.4452 - mse: 14.4452 - val_loss: 11.5209 - val_mse: 11.5209  \n",
    "test RMSE 3.879871131880542  "
   ]
  },
  {
   "cell_type": "code",
   "execution_count": null,
   "metadata": {},
   "outputs": [],
   "source": []
  },
  {
   "cell_type": "markdown",
   "metadata": {},
   "source": [
    "# Action 3 ：使用基于邻域的协同过滤（KNNBasic, KNNWithMeans, KNNWithZScore, KNNBaseline中的任意一种）对MovieLens数据集进行协同过滤，采用k折交叉验证(k=3)，输出每次计算的RMSE, MAE"
   ]
  },
  {
   "cell_type": "markdown",
   "metadata": {},
   "source": [
    "```python\n",
    "from surprise import KNNWithMeans\n",
    "from surprise import Dataset, Reader\n",
    "import surprise\n",
    "from surprise import accuracy\n",
    "from surprise.model_selection import KFold\n",
    "\n",
    "# 数据读取\n",
    "reader = Reader(line_format='user item rating timestamp', sep=',', skip_lines=1)\n",
    "data = Dataset.load_from_file('./ratings.csv', reader=reader)\n",
    "\n",
    "\n",
    "# ItemCF 计算得分\n",
    "# 取最相似的用户计算时，只取最相似的k个\n",
    "algo = KNNWithMeans(k=50, sim_options={'user_based': False, 'verbose': 'True'})\n",
    "\n",
    "\n",
    "# 定义K折交叉验证迭代器，K=3\n",
    "kf = KFold(n_splits=3)\n",
    "for trainset, testset in kf.split(data):\n",
    "    # 训练并预测\n",
    "    algo.fit(trainset)\n",
    "    predictions = algo.test(testset)\n",
    "    # 计算RMSE\n",
    "    accuracy.rmse(predictions, verbose=True)\n",
    "```"
   ]
  },
  {
   "cell_type": "markdown",
   "metadata": {},
   "source": [
    "Computing the msd similarity matrix...  \n",
    "Done computing similarity matrix.  \n",
    "RMSE: 0.8552  \n",
    "Computing the msd similarity matrix...  \n",
    "Done computing similarity matrix.  \n",
    "RMSE: 0.8585  \n",
    "Computing the msd similarity matrix...  \n",
    "Done computing similarity matrix.  \n",
    "RMSE: 0.8553  "
   ]
  },
  {
   "cell_type": "markdown",
   "metadata": {},
   "source": [
    "# 本章任务"
   ]
  },
  {
   "cell_type": "code",
   "execution_count": 1,
   "metadata": {},
   "outputs": [
    {
     "name": "stdout",
     "output_type": "stream",
     "text": [
      "23\n",
      "[text:'原理', text:'FM算法的原理']\n",
      "[text:'原理', text:'FM算法的计算复杂度']\n",
      "[text:'原理', text:'FFM算法的原理']\n",
      "[text:'原理', text:'DeepFM算法的原理']\n",
      "[text:'工具', text:'libfm']\n",
      "[text:'工具', text:'libffm']\n",
      "[text:'工具', text:'xlearn']\n",
      "[text:'工具', text:'deepctr']\n",
      "[text:'原理', text:'基于邻域的协同过滤 UserCF，ItemCF']\n",
      "[text:'原理', text:'相似邻居的定义']\n",
      "[text:'原理', text:'相似度计算的方式']\n",
      "[text:'工具', text:'Surprise工具中的基于邻域的协同过滤算法使用']\n",
      "[text:'Thinking1', text:'在实际工作中，FM和MF哪个应用的更多，为什么'] text:'1、能简要说明FM和MF的区别（5point）\\n2、能简要说明FM在推荐系统，以及应用场景中的作用（5point）\\n'\n",
      "[text:'Thinking2', text:'FFM与FM有哪些区别？'] text:'1、能简要说明区别（10point）\\n'\n",
      "[text:'Thinking3', text:'DeepFM相比于FM解决了哪些问题，原理是怎样的'] text:'1、能说明DeepFM相比于FM有哪些改进的地方（5points）\\n2、能说明DeepFM的原理，FM+DNN模型（5points）'\n",
      "[text:'Thinking4', text:'Surprise工具中的baseline算法原理是怎样的？BaselineOnly和KNNBaseline有什么区别？'] text:'1、能简要说明baseline的原理（5points)\\n2、能简要说明BaselineOnly和KNNBaseline的区别（5points)'\n",
      "[text:'Thinking5', text:'基于邻域的协同过滤都有哪些算法，请简述原理'] text:'1、能说出两种不同的基于邻域的协同过滤的算法（5points）\\n2、这些算法之间的区别和作用（5pionts）'\n",
      "[text:'Action1', text:'使用libfm工具对movielens进行评分预测，采用SGD优化算法'] text:'1、运行出结果，结果正确（10points）'\n",
      "[text:'Action2', text:'使用DeepFM对movielens进行评分预测'] text:'1、使用DeepFM工具进行评分预测，代码正确，可以跑通简单的movielens_sample数据集（10points）\\n2、可以跑通完整的movielens数据集（10points）\\n'\n",
      "[text:'Action3', text:'使用基于邻域的协同过滤（KNNBasic, KNNWithMeans, KNNWithZScore, KNNBaseline中的任意一种）对MovieLens数据集进行协同过滤，采用k折交叉验证(k=3)，输出每次计算的RMSE, MAE'] text:'1、完成代码（10points）\\n2、得出K折，每次的RMSE，MAE结果（10points）'\n"
     ]
    }
   ],
   "source": [
    "import xlrd\n",
    "data = xlrd.open_workbook('L5自测文档.xls')\n",
    "#通过索引顺序获取\n",
    "table = data.sheet_by_index(0)\n",
    "\n",
    "\"\"\" 工作表中行/列的操作 \"\"\"\n",
    "#获取该sheet中的有效行数\n",
    "nrows = table.nrows  \n",
    "print(nrows)\n",
    "row_index, col_index = 0, 0\n",
    "# 获取某行信息\n",
    "for row_index in range(2, nrows-9):\n",
    "    print(table.row(row_index)[:2])\n",
    "for row_index in range(nrows-8, nrows):\n",
    "    print(table.row(row_index)[:2], table.row(row_index)[-2])"
   ]
  },
  {
   "cell_type": "code",
   "execution_count": null,
   "metadata": {},
   "outputs": [],
   "source": []
  },
  {
   "cell_type": "code",
   "execution_count": null,
   "metadata": {},
   "outputs": [],
   "source": []
  }
 ],
 "metadata": {
  "kernelspec": {
   "display_name": "Python 3",
   "language": "python",
   "name": "python3"
  },
  "language_info": {
   "codemirror_mode": {
    "name": "ipython",
    "version": 3
   },
   "file_extension": ".py",
   "mimetype": "text/x-python",
   "name": "python",
   "nbconvert_exporter": "python",
   "pygments_lexer": "ipython3",
   "version": "3.8.3"
  }
 },
 "nbformat": 4,
 "nbformat_minor": 4
}
