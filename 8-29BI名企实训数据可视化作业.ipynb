{
 "cells": [
  {
   "cell_type": "markdown",
   "metadata": {},
   "source": [
    "# Thinking 1 :MVC框架指的是什么?"
   ]
  },
  {
   "cell_type": "markdown",
   "metadata": {},
   "source": [
    "答：  \n",
    "MVC架构主要指Web开发中的MVC架构（Model；View；Controller）：模型-视图-控制器。\n",
    "1.  Model对应Web应用中用于处理数据逻辑的部分，用于和数据库联动，放置业务逻辑代码，处理数据库的增删改查，以及各种Api的存放\n",
    "2.  View对应Web应用中处理响应给客户页面的部分，例如我们写的html静态页面，jsp动态页面，这些最终响应给浏览器的页面都是视图；通常视图是依据模型数据来创建的\n",
    "3.  Controller对应Web应用中Serlet部分，用户点选浏览器，浏览器产生需求与Controller交互，Controller将处理完成的数据返回给View，一般代码主要存放在Controller中\n",
    "![MVC.png](MVC.png)"
   ]
  },
  {
   "cell_type": "markdown",
   "metadata": {},
   "source": [
    "# Thinking 2 :基于Python的可视化技术都有哪些，你使用过哪些?"
   ]
  },
  {
   "cell_type": "markdown",
   "metadata": {},
   "source": [
    "答：  \n",
    "主要可视化技术使用的工具有：seaborn，matplotlib，echarts，Graphviz，networkx，wordcloud等。  \n",
    "主要包括如下功能：\n",
    "1.  实现直方图、折线图、饼图、热力图、箱线图、雷达图、二元关系图等基本图。 \n",
    "2. 决策树可视化图、网络图、词云图、地理可视化图等反应模型结果的图\n",
    "3. 以及基于web开发的各种交互式可视化图"
   ]
  },
  {
   "cell_type": "markdown",
   "metadata": {},
   "source": [
    "# Action：购物篮词云分析\n",
    ">数据集：MarketBasket  \n",
    "下载地址：https://www.kaggle.com/dragonheir/basket-optimisation  \n",
    "对数据集进行词云可视化展示，可视化探索（Top10的商品有哪些）  \n",
    "\n",
    ">## 初次分析时发现，wordcloud自带的词频统计并不准确,原因有二：1.未进行连字符处理，2.未进行重复处理：collocations=False,  # 避免重复单词\n",
    "--->>> 处理后结果一致"
   ]
  },
  {
   "cell_type": "markdown",
   "metadata": {},
   "source": [
    "\n",
    "# Answer 1 ：\n",
    "## 基于wordcloud自带词频统计process_text"
   ]
  },
  {
   "cell_type": "code",
   "execution_count": 1,
   "metadata": {},
   "outputs": [
    {
     "name": "stdout",
     "output_type": "stream",
     "text": [
      "总计有7501张小票 \n",
      "\n",
      "根据词频，开始生成词云!\n"
     ]
    },
    {
     "data": {
      "image/png": "[encoded data removed]",
      "text/plain": [
       "<Figure size 432x288 with 1 Axes>"
      ]
     },
     "metadata": {
      "needs_background": "light"
     },
     "output_type": "display_data"
    },
    {
     "name": "stdout",
     "output_type": "stream",
     "text": [
      "词频前 20 位商品为：\n",
      "                 Sales  Counts\n",
      "0       mineral_water    1788\n",
      "1                eggs    1348\n",
      "2           spaghetti    1306\n",
      "3        french_fries    1282\n",
      "4           chocolate    1230\n",
      "5           green_tea     991\n",
      "6                milk     972\n",
      "7         ground_beef     737\n",
      "8   frozen_vegetables     715\n",
      "9            pancakes     713\n",
      "10            burgers     654\n",
      "11               cake     608\n",
      "12            cookies     603\n",
      "13           escalope     595\n",
      "14     low_fat_yogurt     574\n",
      "15             shrimp     536\n",
      "16           tomatoes     513\n",
      "17          olive_oil     494\n",
      "18    frozen_smoothie     475\n",
      "19             turkey     469\n"
     ]
    }
   ],
   "source": [
    "import pandas as pd\n",
    "import numpy as np\n",
    "from efficient_apriori import apriori\n",
    "\n",
    "#加载数据\n",
    "data = pd.read_csv('c:/Users/10109/Documents/Jupyter notebook/人工智能课程(BI方向)/商业智能和推荐系统/lesson2 挖掘数据中的关联规则/homework/Market_Basket_Optimisation.csv', header = None)\n",
    "data = data.fillna(0)\n",
    "#print(data)\n",
    "#将数据整理成Transaction列表\n",
    "transaction = []\n",
    "for i in range(data.shape[0]):\n",
    "    temp = []\n",
    "    for j in range(data.shape[1]):\n",
    "        if data.iloc[i, j] != 0:\n",
    "            temp.append(data.iloc[i, j])\n",
    "    transaction.append([temp])\n",
    "print('总计有{}张小票'.format(data.shape[0]),'\\n')\n",
    "\n",
    "transaction = pd.DataFrame(transaction,columns = [0])\n",
    "\n",
    "#将数据整理成列表格式\n",
    "word = []\n",
    "for i in transaction[0]:\n",
    "    word += i    \n",
    "#print(word)\n",
    "\n",
    "#加载词云等数据包\n",
    "from wordcloud import WordCloud,ImageColorGenerator\n",
    "import pandas as pd\n",
    "import matplotlib.pyplot as plt\n",
    "from PIL import Image\n",
    "import numpy as np\n",
    "from lxml import etree\n",
    "from nltk.tokenize import word_tokenize\n",
    "\n",
    "\n",
    "#为避免在拼接时词语被拆分，将空格替换为连字符\n",
    "def replace_(words):\n",
    "    new_words = []\n",
    "    for word in words:\n",
    "        w = list(word)\n",
    "        for i in range(len(w)):\n",
    "            if w[i] == ' ':\n",
    "                w[i] = '_'\n",
    "        new_word = ''.join(w)\n",
    "        new_words += [new_word]\n",
    "    return new_words\n",
    "\n",
    "def create_word_cloud2(f, top = 10):\n",
    "    print('根据词频，开始生成词云!')\n",
    "    f = replace_(f)\n",
    "    #print(f)\n",
    "    f = ' '.join(f)\n",
    "    cut_text = word_tokenize(f)\n",
    "    #print(cut_text)\n",
    "    cut_text = \" \".join(cut_text)\n",
    "#     cut_text = f\n",
    "    #print(cut_text)\n",
    "    #加载图片背景\n",
    "    aimask=np.array(Image.open(\"购物篮.png\"))\n",
    "    wc = WordCloud(\n",
    "        collocations = False,  # 避免重复单词\n",
    "        background_color = \"white\",  # 背景颜色\n",
    "        mask = aimask, #造型遮盖\n",
    "        max_font_size = 100,  # 字体最大值\n",
    "        min_font_size = 5, #字体最小值\n",
    "        max_words = top,\n",
    "        width = 1600,\n",
    "        height = 1200,\n",
    "        margin = 2,\n",
    "        \n",
    "    )\n",
    "    wordcloud = wc.generate(cut_text)\n",
    "#     image_color = ImageColorGenerator(aimask)\n",
    "#     wc.recolor(color_func=image_color) \n",
    "    # 写词云图片\n",
    "    wordcloud.to_file(\"wordcloud.jpg\")\n",
    "    # 显示词云文件\n",
    "    plt.imshow(wordcloud)\n",
    "    plt.axis(\"off\")\n",
    "    plt.show()\n",
    "    counts = wc.process_text(f)\n",
    "    counts = pd.DataFrame(counts.values(), index = counts.keys())\n",
    "    counts2 = counts.reset_index()\n",
    "    new_col = ['Sales', 'Counts']\n",
    "    counts2.columns = new_col\n",
    "    counts2.sort_values(\"Counts\", inplace=True, ascending=False, ignore_index = True)\n",
    "    print(\"词频前\", top , \"位商品为：\\n\", counts2.head(top))\n",
    "    #print(counts2.iloc[counts2[counts2['Sales'] =='eggs'].index, :])\n",
    "    \n",
    "    \n",
    "create_word_cloud2(word,20)\n",
    "\n"
   ]
  },
  {
   "cell_type": "markdown",
   "metadata": {},
   "source": [
    "# Answer 2 ：\n",
    "### 直接进行词频统计后，使用Generate_from_frequence()生成词云，优势为:不需要进行连字符处理"
   ]
  },
  {
   "cell_type": "code",
   "execution_count": 2,
   "metadata": {},
   "outputs": [
    {
     "name": "stdout",
     "output_type": "stream",
     "text": [
      "根据词频，开始生成词云!\n"
     ]
    },
    {
     "data": {
      "image/png": "[encoded data removed]",
      "text/plain": [
       "<Figure size 432x288 with 1 Axes>"
      ]
     },
     "metadata": {
      "needs_background": "light"
     },
     "output_type": "display_data"
    },
    {
     "name": "stdout",
     "output_type": "stream",
     "text": [
      "词频前 20 位商品为：\n",
      "                 Sales  Counts\n",
      "0       mineral water    1788\n",
      "1                eggs    1348\n",
      "2           spaghetti    1306\n",
      "3        french fries    1282\n",
      "4           chocolate    1230\n",
      "5           green tea     991\n",
      "6                milk     972\n",
      "7         ground beef     737\n",
      "8   frozen vegetables     715\n",
      "9            pancakes     713\n",
      "10            burgers     654\n",
      "11               cake     608\n",
      "12            cookies     603\n",
      "13           escalope     595\n",
      "14     low fat yogurt     574\n",
      "15             shrimp     536\n",
      "16           tomatoes     513\n",
      "17          olive oil     494\n",
      "18    frozen smoothie     475\n",
      "19             turkey     469\n"
     ]
    }
   ],
   "source": [
    "#得到购物篮的词频\n",
    "def get_counts(word):\n",
    "    #替换空格\n",
    "#   word = replace_(word)\n",
    "    #转化为dataframe利于统计\n",
    "    word = pd.DataFrame(word)\n",
    "#   print(word)\n",
    "    counts = pd.DataFrame(word.value_counts(), columns = ['count'])\n",
    "    #重设index将商品名转化为一列数据\n",
    "    counts2 = counts.reset_index()\n",
    "    new_col = ['Sales', 'Counts']\n",
    "    counts2.columns = new_col\n",
    "    #将词频转化为字典格式\n",
    "    dic = {}\n",
    "    for i in range(counts2.shape[0]):\n",
    "        dic[counts2.iloc[i, 0]] = counts2.iloc[i, 1]\n",
    "    return dic, counts2    \n",
    "\n",
    "#直接根据词频生成词云并显示Top位商品\n",
    "def create_word_cloud(dic, top = 10):\n",
    "    print('根据词频，开始生成词云!')\n",
    "    #加载图片背景\n",
    "    aimask=np.array(Image.open(\"购物篮.png\"))\n",
    "    wc = WordCloud(\n",
    "        max_words = top,\n",
    "        mask = aimask,\n",
    "        background_color = \"white\",  # 背景颜色\n",
    "        max_font_size = 100,  # 字体最大值\n",
    "        min_font_size = 5, #字体最小值\n",
    "        width = 2000,\n",
    "        height = 1200,\n",
    "        #collocations=False,  # 避免重复单词\n",
    "        collocations = True, # 是否包括两个词的搭配\n",
    "        relative_scaling = 0.5 ,# 词频和字体大小的关联性\n",
    "    )\n",
    "    wordcloud = wc.generate_from_frequencies(dic)\n",
    "    # 写词云图片\n",
    "    wordcloud.to_file(\"wordcloud.jpg\")\n",
    "    # 显示词云文件\n",
    "    plt.imshow(wordcloud)\n",
    "    plt.axis(\"off\")\n",
    "    plt.show() \n",
    "    print(\"词频前\", top , \"位商品为：\\n\", counts.head(top))\n",
    "\n",
    "#得到词频字典dic及统计列表DataFrame\n",
    "dic, counts = get_counts(word)\n",
    "#生成词云并展示前Top位商品\n",
    "create_word_cloud(dic, top = 20)"
   ]
  },
  {
   "cell_type": "code",
   "execution_count": null,
   "metadata": {},
   "outputs": [],
   "source": []
  }
 ],
 "metadata": {
  "kernelspec": {
   "display_name": "Python 3",
   "language": "python",
   "name": "python3"
  },
  "language_info": {
   "codemirror_mode": {
    "name": "ipython",
    "version": 3
   },
   "file_extension": ".py",
   "mimetype": "text/x-python",
   "name": "python",
   "nbconvert_exporter": "python",
   "pygments_lexer": "ipython3",
   "version": "3.7.4"
  }
 },
 "nbformat": 4,
 "nbformat_minor": 4
}
