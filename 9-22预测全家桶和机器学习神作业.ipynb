{
 "cells": [
  {
   "cell_type": "markdown",
   "metadata": {},
   "source": [
    "# Thinking 1 : XGBoost与GBDT的区别是什么？"
   ]
  },
  {
   "cell_type": "markdown",
   "metadata": {},
   "source": []
  },
  {
   "cell_type": "markdown",
   "metadata": {},
   "source": [
    "# Thinking 2 : 举一个你之前做过的预测例子\n",
    ">（用的什么模型，解决什么问题，比如我用LR模型，对员工离职进行了预测，效果如何... 请分享到课程微信群中）"
   ]
  },
  {
   "cell_type": "markdown",
   "metadata": {},
   "source": []
  },
  {
   "cell_type": "markdown",
   "metadata": {},
   "source": [
    "# Thinking 3 : 请你思考，在你的工作中，需要构建哪些特征（比如用户画像，item特征...），这些特征都包括哪些维度（鼓励分享到微信群中，进行交流）"
   ]
  },
  {
   "cell_type": "markdown",
   "metadata": {},
   "source": []
  },
  {
   "cell_type": "markdown",
   "metadata": {},
   "source": [
    "# Action 1 ：男女声音识别\n",
    ">数据集：voice.csv, 3168个录制的声音样本（来自男性和女性演讲者），  \n",
    "采集的频率范围是0hz-280hz，已经对数据进行了预处理    \n",
    "一共有21个属性值，请判断该声音是男还是女？  \n",
    "使用Accuracy作为评价标准  "
   ]
  },
  {
   "cell_type": "markdown",
   "metadata": {},
   "source": []
  },
  {
   "cell_type": "code",
   "execution_count": null,
   "metadata": {},
   "outputs": [],
   "source": []
  },
  {
   "cell_type": "markdown",
   "metadata": {},
   "source": [
    "# 本章任务"
   ]
  },
  {
   "cell_type": "code",
   "execution_count": 14,
   "metadata": {},
   "outputs": [
    {
     "name": "stdout",
     "output_type": "stream",
     "text": [
      "21\n",
      "[text:'工具', text:'LR工具使用']\n",
      "[text:'工具', text:'SVM工具使用']\n",
      "[text:'原理', text:'FM模型：FM，FFM，DeepFM，NFM，AFM']\n",
      "[text:'原理', text:'LR优点及缺点']\n",
      "[text:'原理', text:'SVM优点及缺点']\n",
      "[text:'原理', text:'FM与LR区别']\n",
      "[text:'原理', text:'FM与SVM区别']\n",
      "[text:'原理', text:'三种方式：Bagging, Boosting, Stacking']\n",
      "[text:'原理', text:'XGBoost原理']\n",
      "[text:'原理', text:'LightGBM = XGBoost + Histogram + GOSS + EFB']\n",
      "[text:'原理', text:'CatBoost = Catgorical + Boost']\n",
      "[text:'原理', text:'自然梯度理解']\n",
      "[text:'工具', text:'XGBoost，LightGBM, CatBoost工具使用']\n",
      "[text:'工具', text:'调试工程 Debug能力']\n",
      "[text:'Thinking1', text:'XGBoost与GBDT的区别是什么？'] text:'简要说明这两者之间的区别（10points）'\n",
      "[text:'Thinking1', text:'举一个你之前做过的预测例子（用的什么模型，解决什么问题，比如我用LR模型，对员工离职进行了预测，效果如何... 请分享到课程微信群中）'] text:'简要说明之前做过的例子，用的模型，解决的问题，并且在群里分享（10points）'\n",
      "[text:'Thinking2', text:'请你思考，在你的工作中，需要构建哪些特征（比如用户画像，item特征...），这些特征都包括哪些维度（鼓励分享到微信群中，进行交流）'] text:'能对工作场景，以及构造的特征进行洞察，在班级群中分享（10points）'\n",
      "[text:'Action1', text:'男女声音识别\\n数据集：voice.csv\\n3168个录制的声音样本（来自男性和女性演讲者），采集的频率范围是0hz-280hz，已经对数据进行了预处理\\n一共有21个属性值，请判断该声音是男还是女？\\n使用Accuracy作为评价标准\\n'] text:'1、完成代码（30points）\\n2、分享经验（30points）\\n3、得分Top3（10points）'\n"
     ]
    }
   ],
   "source": [
    "import xlrd\n",
    "data = xlrd.open_workbook('L6自测文档.xls')\n",
    "#通过索引顺序获取\n",
    "table = data.sheet_by_index(0)\n",
    "\n",
    "\"\"\" 工作表中行/列的操作 \"\"\"\n",
    "#获取该sheet中的有效行数\n",
    "nrows = table.nrows  \n",
    "print(nrows)\n",
    "row_index, col_index = 0, 0\n",
    "# 获取某行信息\n",
    "for row_index in range(2, nrows-5):\n",
    "    print(table.row(row_index)[:2])\n",
    "for row_index in range(nrows-4, nrows):\n",
    "    print(table.row(row_index)[:2], table.row(row_index)[-2])"
   ]
  },
  {
   "cell_type": "code",
   "execution_count": null,
   "metadata": {},
   "outputs": [],
   "source": []
  }
 ],
 "metadata": {
  "kernelspec": {
   "display_name": "Python 3",
   "language": "python",
   "name": "python3"
  },
  "language_info": {
   "codemirror_mode": {
    "name": "ipython",
    "version": 3
   },
   "file_extension": ".py",
   "mimetype": "text/x-python",
   "name": "python",
   "nbconvert_exporter": "python",
   "pygments_lexer": "ipython3",
   "version": "3.7.0"
  }
 },
 "nbformat": 4,
 "nbformat_minor": 4
}
